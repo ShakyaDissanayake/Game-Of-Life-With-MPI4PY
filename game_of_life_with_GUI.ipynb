{
 "cells": [
  {
   "cell_type": "code",
   "execution_count": 1,
   "metadata": {},
   "outputs": [
    {
     "name": "stdout",
     "output_type": "stream",
     "text": [
      "Note: you may need to restart the kernel to use updated packages.\n"
     ]
    },
    {
     "name": "stderr",
     "output_type": "stream",
     "text": [
      "ERROR: Could not find a version that satisfies the requirement tkinter (from versions: none)\n",
      "ERROR: No matching distribution found for tkinter\n"
     ]
    }
   ],
   "source": [
    "pip install tkinter"
   ]
  },
  {
   "cell_type": "code",
   "execution_count": 1,
   "metadata": {},
   "outputs": [],
   "source": [
    "import numpy as np\n",
    "from mpi4py import MPI\n",
    "from numba import cuda\n",
    "import tkinter as tk\n",
    "import time"
   ]
  },
  {
   "cell_type": "code",
   "execution_count": 2,
   "metadata": {},
   "outputs": [],
   "source": [
    "@cuda.jit\n",
    "def game_of_life_kernel(current_grid, next_grid, rows, cols):\n",
    "    x, y = cuda.grid(2)\n",
    "    if x >= rows or y >= cols:\n",
    "        return\n",
    "\n",
    "    live_neighbors = 0\n",
    "    for i in range(-1, 2):\n",
    "        for j in range(-1, 2):\n",
    "            if i == 0 and j == 0:\n",
    "                continue\n",
    "            neighbor_x = (x + i + rows) % rows\n",
    "            neighbor_y = (y + j + cols) % cols\n",
    "            live_neighbors += current_grid[neighbor_x, neighbor_y]\n",
    "\n",
    "    if current_grid[x, y] == 1:\n",
    "        if live_neighbors < 2 or live_neighbors > 3:\n",
    "            next_grid[x, y] = 0\n",
    "        else:\n",
    "            next_grid[x, y] = 1\n",
    "    else:\n",
    "        if live_neighbors == 3:\n",
    "            next_grid[x, y] = 1\n"
   ]
  },
  {
   "cell_type": "code",
   "execution_count": 3,
   "metadata": {},
   "outputs": [],
   "source": [
    "def mpi_game_of_life(local_grid, num_generations, proc_grid_size):\n",
    "    comm = MPI.COMM_WORLD\n",
    "    rank = comm.Get_rank()\n",
    "    size = comm.Get_size()\n",
    "\n",
    "    rows, cols = local_grid.shape\n",
    "\n",
    "    next_grid = np.zeros_like(local_grid)\n",
    "\n",
    "    threads_per_block = (16, 16)\n",
    "    blocks_per_grid_x = (rows + threads_per_block[0] - 1) // threads_per_block[0]\n",
    "    blocks_per_grid_y = (cols + threads_per_block[1] - 1) // threads_per_block[1]\n",
    "    blocks_per_grid = (blocks_per_grid_x, blocks_per_grid_y)\n",
    "\n",
    "    for _ in range(num_generations):\n",
    "        d_local_grid = cuda.to_device(local_grid)\n",
    "        d_next_grid = cuda.to_device(next_grid)\n",
    "\n",
    "        game_of_life_kernel[blocks_per_grid, threads_per_block](d_local_grid, d_next_grid, rows, cols)\n",
    "\n",
    "        d_next_grid.copy_to_host(next_grid)\n",
    "\n",
    "        if rank > 0:\n",
    "            comm.Sendrecv(local_grid[0, :], dest=rank - 1, recvbuf=local_grid[-1, :])\n",
    "        if rank < size - 1:\n",
    "            comm.Sendrecv(local_grid[-1, :], dest=rank + 1, recvbuf=local_grid[0, :])\n",
    "\n",
    "        local_grid = next_grid.copy()\n",
    "\n",
    "    return local_grid\n"
   ]
  },
  {
   "cell_type": "code",
   "execution_count": 4,
   "metadata": {},
   "outputs": [
    {
     "name": "stderr",
     "output_type": "stream",
     "text": [
      "c:\\Users\\shaky\\anaconda3\\envs\\gameofvenv\\Lib\\site-packages\\numba\\cuda\\dispatcher.py:536: NumbaPerformanceWarning: \u001b[1mGrid size 64 will likely result in GPU under-utilization due to low occupancy.\u001b[0m\n",
      "  warn(NumbaPerformanceWarning(msg))\n"
     ]
    }
   ],
   "source": [
    "class GameOfLifeGUI:\n",
    "    def __init__(self, root, grid_size=(128, 128), cell_size=5):\n",
    "        self.root = root\n",
    "        self.grid_size = grid_size\n",
    "        self.cell_size = cell_size\n",
    "        self.running = False\n",
    "\n",
    "        self.canvas = tk.Canvas(self.root, width=grid_size[1]*cell_size, height=grid_size[0]*cell_size)\n",
    "        self.canvas.pack()\n",
    "\n",
    "        self.start_button = tk.Button(self.root, text=\"Start\", command=self.start_game)\n",
    "        self.start_button.pack(side=tk.LEFT)\n",
    "        self.stop_button = tk.Button(self.root, text=\"Stop\", command=self.stop_game)\n",
    "        self.stop_button.pack(side=tk.LEFT)\n",
    "\n",
    "        self.local_grid = np.random.randint(2, size=grid_size)  # Initialize with random grid\n",
    "        self.update_gui()\n",
    "\n",
    "    def update_gui(self):\n",
    "        self.canvas.delete(\"all\")\n",
    "        for i in range(self.grid_size[0]):\n",
    "            for j in range(self.grid_size[1]):\n",
    "                if self.local_grid[i, j] == 1:\n",
    "                    x1 = j * self.cell_size\n",
    "                    y1 = i * self.cell_size\n",
    "                    x2 = x1 + self.cell_size\n",
    "                    y2 = y1 + self.cell_size\n",
    "                    self.canvas.create_rectangle(x1, y1, x2, y2, fill=\"black\")\n",
    "\n",
    "    def start_game(self):\n",
    "        self.running = True\n",
    "        self.run_game()\n",
    "\n",
    "    def stop_game(self):\n",
    "        self.running = False\n",
    "\n",
    "    def run_game(self):\n",
    "        if self.running:\n",
    "            proc_grid_size = MPI.COMM_WORLD.Get_size()\n",
    "            self.local_grid = mpi_game_of_life(self.local_grid, 1, proc_grid_size)\n",
    "            self.update_gui()\n",
    "            self.root.after(100, self.run_game)  # Update every 100 ms\n",
    "\n",
    "def main():\n",
    "    root = tk.Tk()\n",
    "    root.title(\"Conway's Game of Life - MPI + GPU\")\n",
    "\n",
    "    grid_size = (128, 128)  # Example grid size\n",
    "    game_gui = GameOfLifeGUI(root, grid_size)\n",
    "\n",
    "    root.mainloop()\n",
    "\n",
    "if __name__ == \"__main__\":\n",
    "    main()\n"
   ]
  },
  {
   "cell_type": "code",
   "execution_count": null,
   "metadata": {},
   "outputs": [],
   "source": []
  }
 ],
 "metadata": {
  "kernelspec": {
   "display_name": "gameofvenv",
   "language": "python",
   "name": "python3"
  },
  "language_info": {
   "codemirror_mode": {
    "name": "ipython",
    "version": 3
   },
   "file_extension": ".py",
   "mimetype": "text/x-python",
   "name": "python",
   "nbconvert_exporter": "python",
   "pygments_lexer": "ipython3",
   "version": "3.11.3"
  }
 },
 "nbformat": 4,
 "nbformat_minor": 2
}
